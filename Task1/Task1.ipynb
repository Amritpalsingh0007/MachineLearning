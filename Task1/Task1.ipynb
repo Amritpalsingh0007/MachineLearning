{
 "cells": [
  {
   "cell_type": "code",
   "execution_count": 1,
   "id": "ddcdb2a4-3114-4f61-bc28-14eaf390d740",
   "metadata": {},
   "outputs": [],
   "source": [
    "import pandas as pd"
   ]
  },
  {
   "cell_type": "code",
   "execution_count": 2,
   "id": "a30d9dfc-fe44-457c-879f-f3bd83e6d401",
   "metadata": {},
   "outputs": [
    {
     "data": {
      "text/html": [
       "<div>\n",
       "<style scoped>\n",
       "    .dataframe tbody tr th:only-of-type {\n",
       "        vertical-align: middle;\n",
       "    }\n",
       "\n",
       "    .dataframe tbody tr th {\n",
       "        vertical-align: top;\n",
       "    }\n",
       "\n",
       "    .dataframe thead th {\n",
       "        text-align: right;\n",
       "    }\n",
       "</style>\n",
       "<table border=\"1\" class=\"dataframe\">\n",
       "  <thead>\n",
       "    <tr style=\"text-align: right;\">\n",
       "      <th></th>\n",
       "      <th>cID</th>\n",
       "      <th>gender</th>\n",
       "      <th>SeniorCitizen</th>\n",
       "      <th>Partner</th>\n",
       "      <th>Dependents</th>\n",
       "      <th>tenure</th>\n",
       "      <th>PhoneService</th>\n",
       "      <th>MultipleLines</th>\n",
       "      <th>InternetService</th>\n",
       "      <th>OnlineSecurity</th>\n",
       "      <th>...</th>\n",
       "      <th>DeviceProtection</th>\n",
       "      <th>TechSupport</th>\n",
       "      <th>TV_Streaming</th>\n",
       "      <th>Movie_Streaming</th>\n",
       "      <th>Contract</th>\n",
       "      <th>PaperlessBilling</th>\n",
       "      <th>Method_Payment</th>\n",
       "      <th>Charges_Month</th>\n",
       "      <th>TotalCharges</th>\n",
       "      <th>Churn</th>\n",
       "    </tr>\n",
       "  </thead>\n",
       "  <tbody>\n",
       "    <tr>\n",
       "      <th>0</th>\n",
       "      <td>4223-BKEOR</td>\n",
       "      <td>Female</td>\n",
       "      <td>0</td>\n",
       "      <td>No</td>\n",
       "      <td>Yes</td>\n",
       "      <td>21</td>\n",
       "      <td>Yes</td>\n",
       "      <td>No</td>\n",
       "      <td>DSL</td>\n",
       "      <td>Yes</td>\n",
       "      <td>...</td>\n",
       "      <td>Yes</td>\n",
       "      <td>No</td>\n",
       "      <td>No</td>\n",
       "      <td>Yes</td>\n",
       "      <td>One year</td>\n",
       "      <td>No</td>\n",
       "      <td>Mailed check</td>\n",
       "      <td>64.85</td>\n",
       "      <td>1336.8</td>\n",
       "      <td>No</td>\n",
       "    </tr>\n",
       "    <tr>\n",
       "      <th>1</th>\n",
       "      <td>6035-RIIOM</td>\n",
       "      <td>Female</td>\n",
       "      <td>0</td>\n",
       "      <td>No</td>\n",
       "      <td>No</td>\n",
       "      <td>54</td>\n",
       "      <td>Yes</td>\n",
       "      <td>Yes</td>\n",
       "      <td>Fiber optic</td>\n",
       "      <td>No</td>\n",
       "      <td>...</td>\n",
       "      <td>No</td>\n",
       "      <td>No</td>\n",
       "      <td>Yes</td>\n",
       "      <td>Yes</td>\n",
       "      <td>Two year</td>\n",
       "      <td>Yes</td>\n",
       "      <td>Bank transfer (automatic)</td>\n",
       "      <td>97.20</td>\n",
       "      <td>5129.45</td>\n",
       "      <td>No</td>\n",
       "    </tr>\n",
       "    <tr>\n",
       "      <th>2</th>\n",
       "      <td>3797-VTIDR</td>\n",
       "      <td>Male</td>\n",
       "      <td>0</td>\n",
       "      <td>Yes</td>\n",
       "      <td>No</td>\n",
       "      <td>1</td>\n",
       "      <td>No</td>\n",
       "      <td>No phone service</td>\n",
       "      <td>DSL</td>\n",
       "      <td>No</td>\n",
       "      <td>...</td>\n",
       "      <td>No</td>\n",
       "      <td>No</td>\n",
       "      <td>No</td>\n",
       "      <td>No</td>\n",
       "      <td>Month-to-month</td>\n",
       "      <td>Yes</td>\n",
       "      <td>Electronic check</td>\n",
       "      <td>23.45</td>\n",
       "      <td>23.45</td>\n",
       "      <td>Yes</td>\n",
       "    </tr>\n",
       "    <tr>\n",
       "      <th>3</th>\n",
       "      <td>2568-BRGYX</td>\n",
       "      <td>Male</td>\n",
       "      <td>0</td>\n",
       "      <td>No</td>\n",
       "      <td>No</td>\n",
       "      <td>4</td>\n",
       "      <td>Yes</td>\n",
       "      <td>No</td>\n",
       "      <td>Fiber optic</td>\n",
       "      <td>No</td>\n",
       "      <td>...</td>\n",
       "      <td>No</td>\n",
       "      <td>No</td>\n",
       "      <td>No</td>\n",
       "      <td>No</td>\n",
       "      <td>Month-to-month</td>\n",
       "      <td>Yes</td>\n",
       "      <td>Electronic check</td>\n",
       "      <td>70.20</td>\n",
       "      <td>237.95</td>\n",
       "      <td>Yes</td>\n",
       "    </tr>\n",
       "    <tr>\n",
       "      <th>4</th>\n",
       "      <td>2775-SEFEE</td>\n",
       "      <td>Male</td>\n",
       "      <td>0</td>\n",
       "      <td>No</td>\n",
       "      <td>Yes</td>\n",
       "      <td>0</td>\n",
       "      <td>Yes</td>\n",
       "      <td>Yes</td>\n",
       "      <td>DSL</td>\n",
       "      <td>Yes</td>\n",
       "      <td>...</td>\n",
       "      <td>No</td>\n",
       "      <td>Yes</td>\n",
       "      <td>No</td>\n",
       "      <td>No</td>\n",
       "      <td>Two year</td>\n",
       "      <td>Yes</td>\n",
       "      <td>Bank transfer (automatic)</td>\n",
       "      <td>61.90</td>\n",
       "      <td></td>\n",
       "      <td>No</td>\n",
       "    </tr>\n",
       "  </tbody>\n",
       "</table>\n",
       "<p>5 rows × 21 columns</p>\n",
       "</div>"
      ],
      "text/plain": [
       "          cID  gender  SeniorCitizen Partner Dependents  tenure PhoneService  \\\n",
       "0  4223-BKEOR  Female              0      No        Yes      21          Yes   \n",
       "1  6035-RIIOM  Female              0      No         No      54          Yes   \n",
       "2  3797-VTIDR    Male              0     Yes         No       1           No   \n",
       "3  2568-BRGYX    Male              0      No         No       4          Yes   \n",
       "4  2775-SEFEE    Male              0      No        Yes       0          Yes   \n",
       "\n",
       "      MultipleLines InternetService OnlineSecurity  ... DeviceProtection  \\\n",
       "0                No             DSL            Yes  ...              Yes   \n",
       "1               Yes     Fiber optic             No  ...               No   \n",
       "2  No phone service             DSL             No  ...               No   \n",
       "3                No     Fiber optic             No  ...               No   \n",
       "4               Yes             DSL            Yes  ...               No   \n",
       "\n",
       "  TechSupport TV_Streaming Movie_Streaming        Contract PaperlessBilling  \\\n",
       "0          No           No             Yes        One year               No   \n",
       "1          No          Yes             Yes        Two year              Yes   \n",
       "2          No           No              No  Month-to-month              Yes   \n",
       "3          No           No              No  Month-to-month              Yes   \n",
       "4         Yes           No              No        Two year              Yes   \n",
       "\n",
       "              Method_Payment Charges_Month  TotalCharges Churn  \n",
       "0               Mailed check         64.85        1336.8    No  \n",
       "1  Bank transfer (automatic)         97.20       5129.45    No  \n",
       "2           Electronic check         23.45         23.45   Yes  \n",
       "3           Electronic check         70.20        237.95   Yes  \n",
       "4  Bank transfer (automatic)         61.90                  No  \n",
       "\n",
       "[5 rows x 21 columns]"
      ]
     },
     "execution_count": 2,
     "metadata": {},
     "output_type": "execute_result"
    }
   ],
   "source": [
    "df = pd.read_csv(\"/home/amritpal-singh/Downloads/Churn-Data.csv\")\n",
    "df.head()"
   ]
  },
  {
   "cell_type": "code",
   "execution_count": 3,
   "id": "59b6bd6e-dbb1-451e-b678-1e10dc03c48a",
   "metadata": {},
   "outputs": [
    {
     "name": "stdout",
     "output_type": "stream",
     "text": [
      "<class 'pandas.core.frame.DataFrame'>\n",
      "RangeIndex: 5634 entries, 0 to 5633\n",
      "Data columns (total 21 columns):\n",
      " #   Column            Non-Null Count  Dtype  \n",
      "---  ------            --------------  -----  \n",
      " 0   cID               5634 non-null   object \n",
      " 1   gender            5634 non-null   object \n",
      " 2   SeniorCitizen     5634 non-null   int64  \n",
      " 3   Partner           5634 non-null   object \n",
      " 4   Dependents        5634 non-null   object \n",
      " 5   tenure            5634 non-null   int64  \n",
      " 6   PhoneService      5634 non-null   object \n",
      " 7   MultipleLines     5634 non-null   object \n",
      " 8   InternetService   5634 non-null   object \n",
      " 9   OnlineSecurity    5634 non-null   object \n",
      " 10  OnlineBackup      5634 non-null   object \n",
      " 11  DeviceProtection  5634 non-null   object \n",
      " 12  TechSupport       5634 non-null   object \n",
      " 13  TV_Streaming      5634 non-null   object \n",
      " 14  Movie_Streaming   5634 non-null   object \n",
      " 15  Contract          5634 non-null   object \n",
      " 16  PaperlessBilling  5634 non-null   object \n",
      " 17  Method_Payment    5634 non-null   object \n",
      " 18  Charges_Month     5634 non-null   float64\n",
      " 19  TotalCharges      5634 non-null   object \n",
      " 20  Churn             5634 non-null   object \n",
      "dtypes: float64(1), int64(2), object(18)\n",
      "memory usage: 924.5+ KB\n"
     ]
    }
   ],
   "source": [
    "df.info()"
   ]
  },
  {
   "cell_type": "code",
   "execution_count": 4,
   "id": "925ffa4c-b35e-4cbe-8da3-3b0fdb64c63a",
   "metadata": {},
   "outputs": [],
   "source": [
    "df['TotalCharges'] = pd.to_numeric(df['TotalCharges'], errors='coerce')\n",
    "df.TotalCharges.isnull().sum()\n",
    "df = df.drop(columns = [\"cID\"])"
   ]
  },
  {
   "cell_type": "markdown",
   "id": "7c2712d0-5218-4367-91a4-12123b1c4c5f",
   "metadata": {},
   "source": [
    "As there are only 10 nan columns in the TotalCharges we can remove them."
   ]
  },
  {
   "cell_type": "code",
   "execution_count": 5,
   "id": "b92c47c9-3a1d-46d2-b3a1-11e96254420b",
   "metadata": {},
   "outputs": [
    {
     "name": "stdout",
     "output_type": "stream",
     "text": [
      "<class 'pandas.core.frame.DataFrame'>\n",
      "Index: 5624 entries, 0 to 5633\n",
      "Data columns (total 20 columns):\n",
      " #   Column            Non-Null Count  Dtype  \n",
      "---  ------            --------------  -----  \n",
      " 0   gender            5624 non-null   object \n",
      " 1   SeniorCitizen     5624 non-null   int64  \n",
      " 2   Partner           5624 non-null   object \n",
      " 3   Dependents        5624 non-null   object \n",
      " 4   tenure            5624 non-null   int64  \n",
      " 5   PhoneService      5624 non-null   object \n",
      " 6   MultipleLines     5624 non-null   object \n",
      " 7   InternetService   5624 non-null   object \n",
      " 8   OnlineSecurity    5624 non-null   object \n",
      " 9   OnlineBackup      5624 non-null   object \n",
      " 10  DeviceProtection  5624 non-null   object \n",
      " 11  TechSupport       5624 non-null   object \n",
      " 12  TV_Streaming      5624 non-null   object \n",
      " 13  Movie_Streaming   5624 non-null   object \n",
      " 14  Contract          5624 non-null   object \n",
      " 15  PaperlessBilling  5624 non-null   object \n",
      " 16  Method_Payment    5624 non-null   object \n",
      " 17  Charges_Month     5624 non-null   float64\n",
      " 18  TotalCharges      5624 non-null   float64\n",
      " 19  Churn             5624 non-null   object \n",
      "dtypes: float64(2), int64(2), object(16)\n",
      "memory usage: 922.7+ KB\n"
     ]
    }
   ],
   "source": [
    "df = df.dropna(subset=['TotalCharges'])\n",
    "df.info()"
   ]
  },
  {
   "cell_type": "code",
   "execution_count": 6,
   "id": "25cad9fd-e20a-499f-b148-a969f0259028",
   "metadata": {},
   "outputs": [
    {
     "name": "stdout",
     "output_type": "stream",
     "text": [
      "gender  :  ['Female' 'Male']\n",
      "2\n",
      "SeniorCitizen  :  [0 1]\n",
      "2\n",
      "Partner  :  ['No' 'Yes']\n",
      "2\n",
      "Dependents  :  ['Yes' 'No']\n",
      "2\n",
      "tenure  :  [21 54  1  4  7 32 72 19 10 45 40 47 36 69 71 35  3 68 42  8 46 12 26 49\n",
      " 33 31 66 58 13 57  6 59 15 27 34 18  5 39 29  2 63 20 14 56 37 24 52 43\n",
      " 11 16 50 38 23 55 48 53 70 22 28 44 65 64 60 51  9 25 61 30 17 41 67 62]\n",
      "72\n",
      "PhoneService  :  ['Yes' 'No']\n",
      "2\n",
      "MultipleLines  :  ['No' 'Yes' 'No phone service']\n",
      "3\n",
      "InternetService  :  ['DSL' 'Fiber optic' 'No']\n",
      "3\n",
      "OnlineSecurity  :  ['Yes' 'No' 'No internet service']\n",
      "3\n",
      "OnlineBackup  :  ['No' 'Yes' 'No internet service']\n",
      "3\n",
      "DeviceProtection  :  ['Yes' 'No' 'No internet service']\n",
      "3\n",
      "TechSupport  :  ['No' 'No internet service' 'Yes']\n",
      "3\n",
      "TV_Streaming  :  ['No' 'Yes' 'No internet service']\n",
      "3\n",
      "Movie_Streaming  :  ['Yes' 'No' 'No internet service']\n",
      "3\n",
      "Contract  :  ['One year' 'Two year' 'Month-to-month']\n",
      "3\n",
      "PaperlessBilling  :  ['No' 'Yes']\n",
      "2\n",
      "Method_Payment  :  ['Mailed check' 'Bank transfer (automatic)' 'Electronic check'\n",
      " 'Credit card (automatic)']\n",
      "4\n",
      "Charges_Month  :  [64.85 97.2  23.45 ... 59.25 35.35 21.15]\n",
      "1494\n",
      "TotalCharges  :  [1336.8  5129.45   23.45 ...  306.05 1200.15  457.3 ]\n",
      "5299\n",
      "Churn  :  ['No' 'Yes']\n",
      "2\n"
     ]
    }
   ],
   "source": [
    "def checkingUnique():\n",
    "    for i in df.columns:\n",
    "        print(i, \" : \", df[i].unique())\n",
    "        print(len(df[i].unique()))\n",
    "checkingUnique()"
   ]
  },
  {
   "cell_type": "code",
   "execution_count": 7,
   "id": "ebb91caa-3cfc-4938-b28f-a0b0638260be",
   "metadata": {},
   "outputs": [
    {
     "data": {
      "text/html": [
       "<div>\n",
       "<style scoped>\n",
       "    .dataframe tbody tr th:only-of-type {\n",
       "        vertical-align: middle;\n",
       "    }\n",
       "\n",
       "    .dataframe tbody tr th {\n",
       "        vertical-align: top;\n",
       "    }\n",
       "\n",
       "    .dataframe thead th {\n",
       "        text-align: right;\n",
       "    }\n",
       "</style>\n",
       "<table border=\"1\" class=\"dataframe\">\n",
       "  <thead>\n",
       "    <tr style=\"text-align: right;\">\n",
       "      <th></th>\n",
       "      <th>gender</th>\n",
       "      <th>SeniorCitizen</th>\n",
       "      <th>Partner</th>\n",
       "      <th>Dependents</th>\n",
       "      <th>tenure</th>\n",
       "      <th>PhoneService</th>\n",
       "      <th>MultipleLines</th>\n",
       "      <th>InternetService</th>\n",
       "      <th>OnlineSecurity</th>\n",
       "      <th>OnlineBackup</th>\n",
       "      <th>DeviceProtection</th>\n",
       "      <th>TechSupport</th>\n",
       "      <th>TV_Streaming</th>\n",
       "      <th>Movie_Streaming</th>\n",
       "      <th>Contract</th>\n",
       "      <th>PaperlessBilling</th>\n",
       "      <th>Method_Payment</th>\n",
       "      <th>Charges_Month</th>\n",
       "      <th>TotalCharges</th>\n",
       "      <th>Churn</th>\n",
       "    </tr>\n",
       "  </thead>\n",
       "  <tbody>\n",
       "    <tr>\n",
       "      <th>0</th>\n",
       "      <td>0</td>\n",
       "      <td>0</td>\n",
       "      <td>0</td>\n",
       "      <td>1</td>\n",
       "      <td>21</td>\n",
       "      <td>1</td>\n",
       "      <td>0</td>\n",
       "      <td>0</td>\n",
       "      <td>2</td>\n",
       "      <td>0</td>\n",
       "      <td>2</td>\n",
       "      <td>0</td>\n",
       "      <td>0</td>\n",
       "      <td>2</td>\n",
       "      <td>1</td>\n",
       "      <td>0</td>\n",
       "      <td>3</td>\n",
       "      <td>64.85</td>\n",
       "      <td>1336.80</td>\n",
       "      <td>0</td>\n",
       "    </tr>\n",
       "    <tr>\n",
       "      <th>1</th>\n",
       "      <td>0</td>\n",
       "      <td>0</td>\n",
       "      <td>0</td>\n",
       "      <td>0</td>\n",
       "      <td>54</td>\n",
       "      <td>1</td>\n",
       "      <td>2</td>\n",
       "      <td>1</td>\n",
       "      <td>0</td>\n",
       "      <td>2</td>\n",
       "      <td>0</td>\n",
       "      <td>0</td>\n",
       "      <td>2</td>\n",
       "      <td>2</td>\n",
       "      <td>2</td>\n",
       "      <td>1</td>\n",
       "      <td>0</td>\n",
       "      <td>97.20</td>\n",
       "      <td>5129.45</td>\n",
       "      <td>0</td>\n",
       "    </tr>\n",
       "    <tr>\n",
       "      <th>2</th>\n",
       "      <td>1</td>\n",
       "      <td>0</td>\n",
       "      <td>1</td>\n",
       "      <td>0</td>\n",
       "      <td>1</td>\n",
       "      <td>0</td>\n",
       "      <td>1</td>\n",
       "      <td>0</td>\n",
       "      <td>0</td>\n",
       "      <td>0</td>\n",
       "      <td>0</td>\n",
       "      <td>0</td>\n",
       "      <td>0</td>\n",
       "      <td>0</td>\n",
       "      <td>0</td>\n",
       "      <td>1</td>\n",
       "      <td>2</td>\n",
       "      <td>23.45</td>\n",
       "      <td>23.45</td>\n",
       "      <td>1</td>\n",
       "    </tr>\n",
       "    <tr>\n",
       "      <th>3</th>\n",
       "      <td>1</td>\n",
       "      <td>0</td>\n",
       "      <td>0</td>\n",
       "      <td>0</td>\n",
       "      <td>4</td>\n",
       "      <td>1</td>\n",
       "      <td>0</td>\n",
       "      <td>1</td>\n",
       "      <td>0</td>\n",
       "      <td>0</td>\n",
       "      <td>0</td>\n",
       "      <td>0</td>\n",
       "      <td>0</td>\n",
       "      <td>0</td>\n",
       "      <td>0</td>\n",
       "      <td>1</td>\n",
       "      <td>2</td>\n",
       "      <td>70.20</td>\n",
       "      <td>237.95</td>\n",
       "      <td>1</td>\n",
       "    </tr>\n",
       "    <tr>\n",
       "      <th>5</th>\n",
       "      <td>1</td>\n",
       "      <td>0</td>\n",
       "      <td>0</td>\n",
       "      <td>0</td>\n",
       "      <td>7</td>\n",
       "      <td>1</td>\n",
       "      <td>0</td>\n",
       "      <td>1</td>\n",
       "      <td>0</td>\n",
       "      <td>0</td>\n",
       "      <td>0</td>\n",
       "      <td>0</td>\n",
       "      <td>0</td>\n",
       "      <td>0</td>\n",
       "      <td>0</td>\n",
       "      <td>1</td>\n",
       "      <td>2</td>\n",
       "      <td>69.55</td>\n",
       "      <td>521.35</td>\n",
       "      <td>0</td>\n",
       "    </tr>\n",
       "  </tbody>\n",
       "</table>\n",
       "</div>"
      ],
      "text/plain": [
       "  gender  SeniorCitizen Partner Dependents  tenure PhoneService MultipleLines  \\\n",
       "0      0              0       0          1      21            1             0   \n",
       "1      0              0       0          0      54            1             2   \n",
       "2      1              0       1          0       1            0             1   \n",
       "3      1              0       0          0       4            1             0   \n",
       "5      1              0       0          0       7            1             0   \n",
       "\n",
       "  InternetService OnlineSecurity OnlineBackup DeviceProtection TechSupport  \\\n",
       "0               0              2            0                2           0   \n",
       "1               1              0            2                0           0   \n",
       "2               0              0            0                0           0   \n",
       "3               1              0            0                0           0   \n",
       "5               1              0            0                0           0   \n",
       "\n",
       "  TV_Streaming Movie_Streaming Contract PaperlessBilling Method_Payment  \\\n",
       "0            0               2        1                0              3   \n",
       "1            2               2        2                1              0   \n",
       "2            0               0        0                1              2   \n",
       "3            0               0        0                1              2   \n",
       "5            0               0        0                1              2   \n",
       "\n",
       "   Charges_Month  TotalCharges Churn  \n",
       "0          64.85       1336.80     0  \n",
       "1          97.20       5129.45     0  \n",
       "2          23.45         23.45     1  \n",
       "3          70.20        237.95     1  \n",
       "5          69.55        521.35     0  "
      ]
     },
     "execution_count": 7,
     "metadata": {},
     "output_type": "execute_result"
    }
   ],
   "source": [
    "from sklearn.preprocessing import LabelEncoder\n",
    "\n",
    "label_encoders = {}\n",
    "categorical_columns = df.select_dtypes(include=['object']).columns\n",
    "\n",
    "for col in categorical_columns:\n",
    "    le = LabelEncoder()\n",
    "    df.loc[:,col] = le.fit_transform(df[col])\n",
    "    label_encoders[col] = le\n",
    "\n",
    "df.head()"
   ]
  },
  {
   "cell_type": "code",
   "execution_count": 8,
   "id": "9de063e7-dd61-4cd7-839a-8cc16566d4b8",
   "metadata": {},
   "outputs": [
    {
     "name": "stdout",
     "output_type": "stream",
     "text": [
      "<class 'pandas.core.frame.DataFrame'>\n",
      "Index: 5624 entries, 0 to 5633\n",
      "Data columns (total 20 columns):\n",
      " #   Column            Non-Null Count  Dtype  \n",
      "---  ------            --------------  -----  \n",
      " 0   gender            5624 non-null   object \n",
      " 1   SeniorCitizen     5624 non-null   int64  \n",
      " 2   Partner           5624 non-null   object \n",
      " 3   Dependents        5624 non-null   object \n",
      " 4   tenure            5624 non-null   int64  \n",
      " 5   PhoneService      5624 non-null   object \n",
      " 6   MultipleLines     5624 non-null   object \n",
      " 7   InternetService   5624 non-null   object \n",
      " 8   OnlineSecurity    5624 non-null   object \n",
      " 9   OnlineBackup      5624 non-null   object \n",
      " 10  DeviceProtection  5624 non-null   object \n",
      " 11  TechSupport       5624 non-null   object \n",
      " 12  TV_Streaming      5624 non-null   object \n",
      " 13  Movie_Streaming   5624 non-null   object \n",
      " 14  Contract          5624 non-null   object \n",
      " 15  PaperlessBilling  5624 non-null   object \n",
      " 16  Method_Payment    5624 non-null   object \n",
      " 17  Charges_Month     5624 non-null   float64\n",
      " 18  TotalCharges      5624 non-null   float64\n",
      " 19  Churn             5624 non-null   object \n",
      "dtypes: float64(2), int64(2), object(16)\n",
      "memory usage: 922.7+ KB\n"
     ]
    }
   ],
   "source": [
    "df.info()"
   ]
  },
  {
   "cell_type": "code",
   "execution_count": 9,
   "id": "abc823b9-09b8-48ff-8256-3f1a752f56c8",
   "metadata": {},
   "outputs": [],
   "source": [
    "for col in df.select_dtypes(include=['object']).columns :\n",
    "    df[col] = df[col].astype('int8')"
   ]
  },
  {
   "cell_type": "code",
   "execution_count": 10,
   "id": "291c2db1-0cb0-4da0-9b95-787fd715a5ca",
   "metadata": {},
   "outputs": [
    {
     "name": "stdout",
     "output_type": "stream",
     "text": [
      "<class 'pandas.core.frame.DataFrame'>\n",
      "Index: 5624 entries, 0 to 5633\n",
      "Data columns (total 20 columns):\n",
      " #   Column            Non-Null Count  Dtype  \n",
      "---  ------            --------------  -----  \n",
      " 0   gender            5624 non-null   int8   \n",
      " 1   SeniorCitizen     5624 non-null   int64  \n",
      " 2   Partner           5624 non-null   int8   \n",
      " 3   Dependents        5624 non-null   int8   \n",
      " 4   tenure            5624 non-null   int64  \n",
      " 5   PhoneService      5624 non-null   int8   \n",
      " 6   MultipleLines     5624 non-null   int8   \n",
      " 7   InternetService   5624 non-null   int8   \n",
      " 8   OnlineSecurity    5624 non-null   int8   \n",
      " 9   OnlineBackup      5624 non-null   int8   \n",
      " 10  DeviceProtection  5624 non-null   int8   \n",
      " 11  TechSupport       5624 non-null   int8   \n",
      " 12  TV_Streaming      5624 non-null   int8   \n",
      " 13  Movie_Streaming   5624 non-null   int8   \n",
      " 14  Contract          5624 non-null   int8   \n",
      " 15  PaperlessBilling  5624 non-null   int8   \n",
      " 16  Method_Payment    5624 non-null   int8   \n",
      " 17  Charges_Month     5624 non-null   float64\n",
      " 18  TotalCharges      5624 non-null   float64\n",
      " 19  Churn             5624 non-null   int8   \n",
      "dtypes: float64(2), int64(2), int8(16)\n",
      "memory usage: 307.6 KB\n"
     ]
    }
   ],
   "source": [
    "df.info()"
   ]
  },
  {
   "cell_type": "code",
   "execution_count": 11,
   "id": "703d3cff-844f-45b6-a9f6-e64d399203ec",
   "metadata": {},
   "outputs": [
    {
     "name": "stdout",
     "output_type": "stream",
     "text": [
      "gender  :  [0 1]\n",
      "2\n",
      "SeniorCitizen  :  [0 1]\n",
      "2\n",
      "Partner  :  [0 1]\n",
      "2\n",
      "Dependents  :  [1 0]\n",
      "2\n",
      "tenure  :  [21 54  1  4  7 32 72 19 10 45 40 47 36 69 71 35  3 68 42  8 46 12 26 49\n",
      " 33 31 66 58 13 57  6 59 15 27 34 18  5 39 29  2 63 20 14 56 37 24 52 43\n",
      " 11 16 50 38 23 55 48 53 70 22 28 44 65 64 60 51  9 25 61 30 17 41 67 62]\n",
      "72\n",
      "PhoneService  :  [1 0]\n",
      "2\n",
      "MultipleLines  :  [0 2 1]\n",
      "3\n",
      "InternetService  :  [0 1 2]\n",
      "3\n",
      "OnlineSecurity  :  [2 0 1]\n",
      "3\n",
      "OnlineBackup  :  [0 2 1]\n",
      "3\n",
      "DeviceProtection  :  [2 0 1]\n",
      "3\n",
      "TechSupport  :  [0 1 2]\n",
      "3\n",
      "TV_Streaming  :  [0 2 1]\n",
      "3\n",
      "Movie_Streaming  :  [2 0 1]\n",
      "3\n",
      "Contract  :  [1 2 0]\n",
      "3\n",
      "PaperlessBilling  :  [0 1]\n",
      "2\n",
      "Method_Payment  :  [3 0 2 1]\n",
      "4\n",
      "Charges_Month  :  [64.85 97.2  23.45 ... 59.25 35.35 21.15]\n",
      "1494\n",
      "TotalCharges  :  [1336.8  5129.45   23.45 ...  306.05 1200.15  457.3 ]\n",
      "5299\n",
      "Churn  :  [0 1]\n",
      "2\n"
     ]
    }
   ],
   "source": [
    "checkingUnique()"
   ]
  },
  {
   "cell_type": "code",
   "execution_count": 12,
   "id": "7eab3e1a-9c8b-4622-90c7-674e2babb33c",
   "metadata": {},
   "outputs": [
    {
     "data": {
      "text/plain": [
       "1496"
      ]
     },
     "execution_count": 12,
     "metadata": {},
     "output_type": "execute_result"
    }
   ],
   "source": [
    "len(df[df['Churn'] == 1])"
   ]
  },
  {
   "cell_type": "code",
   "execution_count": 13,
   "id": "3b482891-ad01-4af5-a727-bd15f1d70f7c",
   "metadata": {},
   "outputs": [
    {
     "data": {
      "text/plain": [
       "4128"
      ]
     },
     "execution_count": 13,
     "metadata": {},
     "output_type": "execute_result"
    }
   ],
   "source": [
    "len(df[df['Churn'] == 0])"
   ]
  },
  {
   "cell_type": "markdown",
   "id": "527160a7-58e8-4bb5-ad56-2459ca2e8ee6",
   "metadata": {},
   "source": [
    "As there is a imbalance in the dataset we will use SMOTE "
   ]
  },
  {
   "cell_type": "code",
   "execution_count": 14,
   "id": "795d40e5-abe2-4b6e-b7f1-82fe41d2f2f4",
   "metadata": {},
   "outputs": [],
   "source": [
    "from sklearn.model_selection import train_test_split\n",
    "\n",
    "x = df.drop(['Churn'], axis=1)\n",
    "y = df['Churn']\n",
    "\n",
    "x_train, x_test, y_train, y_test = train_test_split(x, y, test_size=0.2, random_state=42)\n"
   ]
  },
  {
   "cell_type": "code",
   "execution_count": 15,
   "id": "0b149353-d278-4437-a63a-c488d079e6cc",
   "metadata": {},
   "outputs": [
    {
     "name": "stdout",
     "output_type": "stream",
     "text": [
      "Original class distribution: Counter({0: 3332, 1: 1167})\n",
      "Resampled class distribution: Counter({0: 3332, 1: 3332})\n"
     ]
    }
   ],
   "source": [
    "from imblearn.over_sampling import SMOTE\n",
    "from collections import Counter\n",
    "\n",
    "smote = SMOTE(random_state=42)\n",
    "x_train_smote, y_train_smote = smote.fit_resample(x_train, y_train)\n",
    "print(\"Original class distribution:\", Counter(y_train))\n",
    "\n",
    "print(\"Resampled class distribution:\", Counter(y_train_smote))"
   ]
  },
  {
   "cell_type": "markdown",
   "id": "bb191ae0-5a95-48c3-8e21-15c8bda63481",
   "metadata": {},
   "source": [
    "Now the training data is perfectly balanced"
   ]
  },
  {
   "cell_type": "code",
   "execution_count": 21,
   "id": "4a2e718b-5154-4e73-98b8-1d9d86cb662c",
   "metadata": {},
   "outputs": [
    {
     "name": "stdout",
     "output_type": "stream",
     "text": [
      "Accuracy: 0.7671111111111111\n",
      "F1-score: 0.7651379744651483\n"
     ]
    }
   ],
   "source": [
    "from sklearn.ensemble import RandomForestClassifier\n",
    "from sklearn.metrics import accuracy_score, f1_score\n",
    "\n",
    "model = RandomForestClassifier(random_state = 42)\n",
    "model.fit(x_train_smote, y_train_smote)\n",
    "\n",
    "y_pred = model.predict(x_test)\n",
    "\n",
    "accuracy = accuracy_score(y_test, y_pred)\n",
    "f1 = f1_score(y_test, y_pred, average='weighted')\n",
    "\n",
    "print(f'Accuracy: {accuracy}')\n",
    "print(f'F1-score: {f1}')"
   ]
  },
  {
   "cell_type": "markdown",
   "id": "9e6f2144-dcc6-4d6d-b653-06774decf861",
   "metadata": {},
   "source": [
    "WELL training the model with smote techinque and without it doesnt make much defference in accuracy and f1 score. that means even though there is some difference in the sample the model didnt overfit\n",
    "\n",
    "Now we will do Hyperparameter Tuning to find best parameter values for model to increase its accuracy and f1 score"
   ]
  },
  {
   "cell_type": "code",
   "execution_count": 23,
   "id": "ad9566c7-5bca-435f-b767-fb2e333cc18c",
   "metadata": {},
   "outputs": [
    {
     "name": "stdout",
     "output_type": "stream",
     "text": [
      "Best Accuracy: 0.7608888888888888\n",
      "Best F1-score: 0.7594476047880091\n"
     ]
    }
   ],
   "source": [
    "from sklearn.model_selection import GridSearchCV\n",
    "\n",
    "param_grid = {\n",
    "    'n_estimators': [10, 50, 100, 150, 200, 300],\n",
    "    'max_depth': [10, 20, 30, 50, 75, 100],\n",
    "    'min_samples_split': [2, 5, 10, 15, 20]\n",
    "}\n",
    "\n",
    "grid_search = GridSearchCV(estimator = model, param_grid = param_grid, cv=3, scoring='f1_weighted')\n",
    "grid_search.fit(x_train_smote, y_train_smote)\n",
    "\n",
    "best_model = grid_search.best_estimator_\n",
    "y_pred_best = best_model.predict(x_test)\n",
    "\n",
    "accuracy_best = accuracy_score(y_test, y_pred_best)\n",
    "f1_best = f1_score(y_test, y_pred_best, average = 'weighted')\n",
    "\n",
    "print(f'Best Accuracy: {accuracy_best}')\n",
    "print(f'Best F1-score: {f1_best}')\n"
   ]
  },
  {
   "cell_type": "code",
   "execution_count": 100,
   "id": "6baa45be-86cc-4723-863b-46efbe1dfb90",
   "metadata": {},
   "outputs": [
    {
     "data": {
      "image/png": "[encoded data removed]",
      "text/plain": [
       "<Figure size 1000x600 with 1 Axes>"
      ]
     },
     "metadata": {},
     "output_type": "display_data"
    },
    {
     "name": "stdout",
     "output_type": "stream",
     "text": [
      "Columns : \n",
      "Contract            0.162056\n",
      "Charges_Month       0.126283\n",
      "TotalCharges        0.121917\n",
      "tenure              0.115753\n",
      "OnlineSecurity      0.094465\n",
      "TechSupport         0.070486\n",
      "Method_Payment      0.043753\n",
      "OnlineBackup        0.042840\n",
      "Dependents          0.034434\n",
      "Partner             0.029262\n",
      "InternetService     0.026344\n",
      "DeviceProtection    0.024962\n",
      "gender              0.021650\n",
      "MultipleLines       0.017711\n",
      "TV_Streaming        0.016672\n",
      "Movie_Streaming     0.015762\n",
      "PaperlessBilling    0.015224\n",
      "SeniorCitizen       0.012488\n",
      "PhoneService        0.007940\n",
      "dtype: float64\n"
     ]
    }
   ],
   "source": [
    "import matplotlib.pyplot as plt\n",
    "import seaborn as sns\n",
    "\n",
    "feature_importances = pd.Series(best_model.feature_importances_, index=x.columns)\n",
    "feature_importances.sort_values(ascending=False, inplace=True)\n",
    "\n",
    "plt.figure(figsize=(10, 6))\n",
    "sns.barplot(x=feature_importances, y=feature_importances.index)\n",
    "plt.title('Feature Importances')\n",
    "plt.show()\n",
    "print(f'Columns : \\n{feature_importances}')"
   ]
  },
  {
   "cell_type": "markdown",
   "id": "14144388-dba6-4b49-85d5-179e2ab07456",
   "metadata": {},
   "source": [
    "From the above barplot we can see the importance of features.\n",
    "Now we will train a model with around 95% most important column so see if the performance increases."
   ]
  },
  {
   "cell_type": "code",
   "execution_count": 101,
   "id": "bd08b422-7088-44c4-a9fc-3265e40c84d4",
   "metadata": {},
   "outputs": [],
   "source": [
    "less_important_columns = ['PhoneService', 'SeniorCitizen', 'PaperlessBilling']\n",
    "\n",
    "x_train_dropped = x_train.drop(columns=less_important_columns)\n",
    "x_test_dropped = x_test.drop(columns=less_important_columns)\n",
    "\n",
    "smote = SMOTE(random_state=42)\n",
    "x_train_smote_dropped, y_train_smote_dropped = smote.fit_resample(x_train_dropped, y_train)"
   ]
  },
  {
   "cell_type": "code",
   "execution_count": 102,
   "id": "3a412b19-e4e4-4ebe-8b64-d7cfade5a8c5",
   "metadata": {},
   "outputs": [
    {
     "name": "stdout",
     "output_type": "stream",
     "text": [
      "Accuracy with dropped features: 0.7493333333333333\n",
      "F1-score with dropped features: 0.7448508128122275\n"
     ]
    }
   ],
   "source": [
    "model_dropped = RandomForestClassifier(random_state=42)\n",
    "model_dropped.fit(x_train_smote_dropped, y_train_smote_dropped)\n",
    "\n",
    "y_pred_dropped = model_dropped.predict(x_test_dropped)\n",
    "\n",
    "accuracy_dropped = accuracy_score(y_test, y_pred_dropped)\n",
    "f1_dropped = f1_score(y_test, y_pred_dropped, average='weighted')\n",
    "\n",
    "print(f'Accuracy with dropped features: {accuracy_dropped}')\n",
    "print(f'F1-score with dropped features: {f1_dropped}')"
   ]
  },
  {
   "cell_type": "code",
   "execution_count": 103,
   "id": "ca9fa242-1842-4ad7-9ffd-1eae9af26c91",
   "metadata": {},
   "outputs": [
    {
     "name": "stdout",
     "output_type": "stream",
     "text": [
      "Best Accuracy with dropped features: 0.7608888888888888\n",
      "Best F1-score with dropped features: 0.7582611789625369\n"
     ]
    }
   ],
   "source": [
    "grid_search_dropped = GridSearchCV(estimator=model_dropped, param_grid=param_grid, cv=3, scoring='f1_weighted')\n",
    "grid_search_dropped.fit(x_train_smote_dropped, y_train_smote_dropped)\n",
    "\n",
    "best_model_dropped = grid_search_dropped.best_estimator_\n",
    "y_pred_best_dropped = best_model_dropped.predict(x_test_dropped)\n",
    "\n",
    "accuracy_best_dropped = accuracy_score(y_test, y_pred_best_dropped)\n",
    "f1_best_dropped = f1_score(y_test, y_pred_best_dropped, average='weighted')\n",
    "\n",
    "print(f'Best Accuracy with dropped features: {accuracy_best_dropped}')\n",
    "print(f'Best F1-score with dropped features: {f1_best_dropped}')\n"
   ]
  },
  {
   "cell_type": "markdown",
   "id": "eecc68d6-56c8-4ff9-8327-552cca03d82c",
   "metadata": {},
   "source": [
    "After trying removing different columns the accuracy didnt improved so making the model without dropped values 'best_model' the best estimator with \n",
    "\n",
    "**Best Accuracy: 0.7617777777777778** \n",
    "\n",
    "**Best F1-score: 0.7609073504273505**"
   ]
  }
 ],
 "metadata": {
  "kernelspec": {
   "display_name": "Python 3 (ipykernel)",
   "language": "python",
   "name": "python3"
  },
  "language_info": {
   "codemirror_mode": {
    "name": "ipython",
    "version": 3
   },
   "file_extension": ".py",
   "mimetype": "text/x-python",
   "name": "python",
   "nbconvert_exporter": "python",
   "pygments_lexer": "ipython3",
   "version": "3.11.5"
  }
 },
 "nbformat": 4,
 "nbformat_minor": 5
}
